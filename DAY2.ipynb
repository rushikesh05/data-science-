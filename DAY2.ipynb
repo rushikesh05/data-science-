{
 "cells": [
  {
   "cell_type": "code",
   "execution_count": 3,
   "id": "e479bf95-be97-40b5-b221-7beec84e956d",
   "metadata": {},
   "outputs": [
    {
     "name": "stdout",
     "output_type": "stream",
     "text": [
      "my name is rushi and age is 21\n"
     ]
    }
   ],
   "source": [
    "name=\"rushi\"\n",
    "age=21\n",
    "print(f\"my name is {name} and age is {age}\")"
   ]
  },
  {
   "cell_type": "code",
   "execution_count": 5,
   "id": "4130e4d0-d003-473b-9abf-9b582e55728a",
   "metadata": {},
   "outputs": [
    {
     "name": "stdout",
     "output_type": "stream",
     "text": [
      "my name is rushi and age is 21\n"
     ]
    }
   ],
   "source": [
    "print(\"my name is {} and age is {}\".format(name,age))"
   ]
  },
  {
   "cell_type": "code",
   "execution_count": 6,
   "id": "f5799cb2-1ab3-4b37-9d70-4a938c3ff002",
   "metadata": {},
   "outputs": [
    {
     "name": "stdout",
     "output_type": "stream",
     "text": [
      "my name is rushi and age is 21\n"
     ]
    }
   ],
   "source": [
    "print(\"my name is {fname} and age is {ages}\".format(fname=name,ages=age))"
   ]
  },
  {
   "cell_type": "code",
   "execution_count": 9,
   "id": "c657fee1-b872-4920-948a-a7fb8c1dd228",
   "metadata": {},
   "outputs": [],
   "source": [
    "name=\"rushikesh\"\n",
    "age=21\n",
    "degree=\"BCA\"\n"
   ]
  },
  {
   "cell_type": "code",
   "execution_count": 15,
   "id": "f6a0d2c4-fc24-4a6c-b95f-1d30ab56cb77",
   "metadata": {},
   "outputs": [
    {
     "name": "stdout",
     "output_type": "stream",
     "text": [
      "My age is :21 and i have completed my degree of BCA with the name of : rushikesh\n"
     ]
    }
   ],
   "source": [
    "print(f\"My age is :{age} and i have completed my degree of {degree} with the name of : {name}\")"
   ]
  },
  {
   "cell_type": "code",
   "execution_count": 33,
   "id": "826a5183-5f5d-425c-80b5-7d8d34d0226c",
   "metadata": {},
   "outputs": [
    {
     "name": "stdin",
     "output_type": "stream",
     "text": [
      "Enter age:  46\n"
     ]
    },
    {
     "name": "stdout",
     "output_type": "stream",
     "text": [
      "you are not eligible\n"
     ]
    }
   ],
   "source": [
    "age=int(input(\"Enter age: \"))\n",
    "if age>=18 and age<=45:\n",
    "    print(\"you are young blood\")\n",
    "else:\n",
    "    print(\"you are not eligible\")"
   ]
  },
  {
   "cell_type": "code",
   "execution_count": 50,
   "id": "4d371d37-7c4f-430b-a467-b08a36a1a879",
   "metadata": {},
   "outputs": [
    {
     "name": "stdin",
     "output_type": "stream",
     "text": [
      "Enter price:  8\n"
     ]
    },
    {
     "name": "stdout",
     "output_type": "stream",
     "text": [
      "drink tea\n"
     ]
    }
   ],
   "source": [
    "price=int(input(\"Enter price: \"))\n",
    "if price>3000 :\n",
    "    if price==4000:\n",
    "        print(\"You get a kedarnath trip\")\n",
    "    print(\"the price of product is {}\".format(price*0.8))\n",
    "\n",
    "elif price>=2000 and price<=3000 :\n",
    "    if price==2999:\n",
    "        print(\"congratulations you get an additional gift\")\n",
    "    print(\"the price of product is {}\".format(price*0.7))  \n",
    "elif price>=100 and price<=2000: \n",
    "    print(\"the price of product is {}\".format(price*0.6))\n",
    "\n",
    "else:\n",
    "    print(\"drink tea\")\n"
   ]
  },
  {
   "cell_type": "code",
   "execution_count": 37,
   "id": "8f5eb6c0-32a1-403c-a1d2-ed213483ece6",
   "metadata": {},
   "outputs": [
    {
     "data": {
      "text/plain": [
       "1500.0"
      ]
     },
     "execution_count": 37,
     "metadata": {},
     "output_type": "execute_result"
    }
   ],
   "source": [
    "(30/100)*5000\n"
   ]
  },
  {
   "cell_type": "code",
   "execution_count": null,
   "id": "bb2800b5-ba94-4aaf-86fa-e9bd9ea51470",
   "metadata": {},
   "outputs": [],
   "source": []
  }
 ],
 "metadata": {
  "kernelspec": {
   "display_name": "Python 3 (ipykernel)",
   "language": "python",
   "name": "python3"
  },
  "language_info": {
   "codemirror_mode": {
    "name": "ipython",
    "version": 3
   },
   "file_extension": ".py",
   "mimetype": "text/x-python",
   "name": "python",
   "nbconvert_exporter": "python",
   "pygments_lexer": "ipython3",
   "version": "3.10.8"
  }
 },
 "nbformat": 4,
 "nbformat_minor": 5
}
